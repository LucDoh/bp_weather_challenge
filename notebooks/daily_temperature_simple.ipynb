{
 "cells": [
  {
   "cell_type": "code",
   "execution_count": 1,
   "metadata": {},
   "outputs": [],
   "source": [
    "import pandas as pd\n",
    "import numpy as np\n",
    "import matplotlib.pyplot as plt"
   ]
  },
  {
   "cell_type": "code",
   "execution_count": 2,
   "metadata": {},
   "outputs": [],
   "source": [
    "# Part 1\n",
    "df_population = pd.read_csv('Population Data.csv')\n",
    "df_temperature = pd.read_csv('Temperature Data.csv')\n"
   ]
  },
  {
   "cell_type": "code",
   "execution_count": 4,
   "metadata": {},
   "outputs": [],
   "source": [
    "#df_population.tail(60)"
   ]
  },
  {
   "cell_type": "code",
   "execution_count": null,
   "metadata": {},
   "outputs": [],
   "source": []
  },
  {
   "cell_type": "code",
   "execution_count": 5,
   "metadata": {},
   "outputs": [
    {
     "data": {
      "text/plain": [
       "['Abilene',\n",
       " 'Akron',\n",
       " 'Albuquerque',\n",
       " 'Alexandria',\n",
       " 'Allentown',\n",
       " 'Amarillo',\n",
       " 'Anaheim',\n",
       " 'Anchorage',\n",
       " 'Ann Arbor',\n",
       " 'Antioch',\n",
       " 'Arlington',\n",
       " 'Arvada',\n",
       " 'Athens',\n",
       " 'Atlanta',\n",
       " 'Augusta',\n",
       " 'Aurora',\n",
       " 'Austin',\n",
       " 'Bakersfield',\n",
       " 'Baltimore',\n",
       " 'Baton Rouge',\n",
       " 'Beaumont',\n",
       " 'Bellevue',\n",
       " 'Berkeley',\n",
       " 'Billings',\n",
       " 'Birmingham',\n",
       " 'Boise',\n",
       " 'Boston',\n",
       " 'Bridgeport',\n",
       " 'Broken Arrow',\n",
       " 'Brownsville',\n",
       " 'Buffalo',\n",
       " 'Burbank',\n",
       " 'Cambridge',\n",
       " 'Cape Coral',\n",
       " 'Carlsbad',\n",
       " 'Carrollton',\n",
       " 'Cary',\n",
       " 'Cedar Rapids',\n",
       " 'Centennial',\n",
       " 'Chandler',\n",
       " 'Charleston',\n",
       " 'Charlotte',\n",
       " 'Chattanooga',\n",
       " 'Chesapeake',\n",
       " 'Chicago',\n",
       " 'Chula Vista',\n",
       " 'Cincinnati',\n",
       " 'Clarksville',\n",
       " 'Clearwater',\n",
       " 'Cleveland',\n",
       " 'Colorado Springs',\n",
       " 'Columbia',\n",
       " 'Columbus',\n",
       " 'Concord',\n",
       " 'Coral Springs',\n",
       " 'Corona',\n",
       " 'Corpus Christi',\n",
       " 'Costa Mesa',\n",
       " 'Dallas',\n",
       " 'Daly City',\n",
       " 'Davenport',\n",
       " 'Dayton',\n",
       " 'Denton',\n",
       " 'Denver',\n",
       " 'Des Moines',\n",
       " 'Detroit',\n",
       " 'Downey',\n",
       " 'Durham',\n",
       " 'El Cajon',\n",
       " 'El Monte',\n",
       " 'El Paso',\n",
       " 'Elgin',\n",
       " 'Elizabeth',\n",
       " 'Elk Grove',\n",
       " 'Erie',\n",
       " 'Escondido',\n",
       " 'Eugene',\n",
       " 'Evansville',\n",
       " 'Everett',\n",
       " 'Fairfield',\n",
       " 'Fargo',\n",
       " 'Fayetteville',\n",
       " 'Flint',\n",
       " 'Fontana',\n",
       " 'Fort Collins',\n",
       " 'Fort Lauderdale',\n",
       " 'Fort Wayne',\n",
       " 'Fort Worth',\n",
       " 'Fremont',\n",
       " 'Fresno',\n",
       " 'Frisco',\n",
       " 'Fullerton',\n",
       " 'Gainesville',\n",
       " 'Garden Grove',\n",
       " 'Garland',\n",
       " 'Gilbert',\n",
       " 'Glendale',\n",
       " 'Grand Prairie',\n",
       " 'Grand Rapids',\n",
       " 'Green Bay',\n",
       " 'Greensboro',\n",
       " 'Gresham',\n",
       " 'Hampton',\n",
       " 'Hartford',\n",
       " 'Hayward',\n",
       " 'Henderson',\n",
       " 'Hialeah',\n",
       " 'High Point',\n",
       " 'Hollywood',\n",
       " 'Honolulu',\n",
       " 'Houston',\n",
       " 'Huntington Beach',\n",
       " 'Huntsville',\n",
       " 'Independence',\n",
       " 'Indianapolis',\n",
       " 'Inglewood',\n",
       " 'Irvine',\n",
       " 'Irving',\n",
       " 'Jackson',\n",
       " 'Jacksonville',\n",
       " 'Jersey City',\n",
       " 'Joliet',\n",
       " 'Kansas City',\n",
       " 'Kent',\n",
       " 'Killeen',\n",
       " 'Knoxville',\n",
       " 'Lafayette',\n",
       " 'Lakewood',\n",
       " 'Lancaster',\n",
       " 'Lansing',\n",
       " 'Laredo',\n",
       " 'Las Vegas',\n",
       " 'Lexington',\n",
       " 'Lincoln',\n",
       " 'Little Rock',\n",
       " 'Long Beach',\n",
       " 'Los Angeles',\n",
       " 'Louisville',\n",
       " 'Lowell',\n",
       " 'Lubbock',\n",
       " 'Madison',\n",
       " 'Manchester',\n",
       " 'McAllen',\n",
       " 'McKinney',\n",
       " 'Memphis',\n",
       " 'Mesa',\n",
       " 'Mesquite',\n",
       " 'Miami',\n",
       " 'Miami Gardens',\n",
       " 'Midland',\n",
       " 'Milwaukee',\n",
       " 'Minneapolis',\n",
       " 'Miramar',\n",
       " 'Mobile',\n",
       " 'Modesto',\n",
       " 'Montgomery',\n",
       " 'Moreno Valley',\n",
       " 'Murfreesboro',\n",
       " 'Murrieta',\n",
       " 'Naperville',\n",
       " 'Nashville',\n",
       " 'New Haven',\n",
       " 'New Orleans',\n",
       " 'New York',\n",
       " 'Newark',\n",
       " 'Newport News',\n",
       " 'Norfolk',\n",
       " 'Norman',\n",
       " 'North Las Vegas',\n",
       " 'Norwalk',\n",
       " 'Oakland',\n",
       " 'Oceanside',\n",
       " 'Odessa',\n",
       " 'Oklahoma City',\n",
       " 'Olathe',\n",
       " 'Omaha',\n",
       " 'Ontario',\n",
       " 'Orange',\n",
       " 'Orlando',\n",
       " 'Overland Park',\n",
       " 'Oxnard',\n",
       " 'Palm Bay',\n",
       " 'Palmdale',\n",
       " 'Pasadena',\n",
       " 'Paterson',\n",
       " 'Pembroke Pines',\n",
       " 'Peoria',\n",
       " 'Philadelphia',\n",
       " 'Phoenix',\n",
       " 'Pittsburgh',\n",
       " 'Plano',\n",
       " 'Pomona',\n",
       " 'Pompano Beach',\n",
       " 'Port Saint Lucie',\n",
       " 'Portland',\n",
       " 'Providence',\n",
       " 'Provo',\n",
       " 'Pueblo',\n",
       " 'Raleigh',\n",
       " 'Rancho Cucamonga',\n",
       " 'Reno',\n",
       " 'Rialto',\n",
       " 'Richardson',\n",
       " 'Richmond',\n",
       " 'Riverside',\n",
       " 'Rochester',\n",
       " 'Rockford',\n",
       " 'Roseville',\n",
       " 'Round Rock',\n",
       " 'Sacramento',\n",
       " 'Saint Paul',\n",
       " 'Saint Petersburg',\n",
       " 'Salem',\n",
       " 'Salinas',\n",
       " 'Salt Lake City',\n",
       " 'San Antonio',\n",
       " 'San Bernardino',\n",
       " 'San Buenaventura (Ventura)',\n",
       " 'San Diego',\n",
       " 'San Francisco',\n",
       " 'San Jose',\n",
       " 'Santa Ana',\n",
       " 'Santa Clara',\n",
       " 'Santa Clarita',\n",
       " 'Santa Maria',\n",
       " 'Santa Rosa',\n",
       " 'Savannah',\n",
       " 'Scottsdale',\n",
       " 'Seattle',\n",
       " 'Shreveport',\n",
       " 'Simi Valley',\n",
       " 'Sioux Falls',\n",
       " 'South Bend',\n",
       " 'Spokane',\n",
       " 'Springfield',\n",
       " 'St. Louis',\n",
       " 'Stamford',\n",
       " 'Sterling Heights',\n",
       " 'Stockton',\n",
       " 'Sunnyvale',\n",
       " 'Surprise',\n",
       " 'Syracuse',\n",
       " 'Tacoma',\n",
       " 'Tallahassee',\n",
       " 'Tampa',\n",
       " 'Temecula',\n",
       " 'Tempe',\n",
       " 'Thornton',\n",
       " 'Thousand Oaks',\n",
       " 'Toledo',\n",
       " 'Topeka',\n",
       " 'Torrance',\n",
       " 'Tucson',\n",
       " 'Tulsa',\n",
       " 'Vallejo',\n",
       " 'Vancouver',\n",
       " 'Victorville',\n",
       " 'Virginia Beach',\n",
       " 'Visalia',\n",
       " 'Waco',\n",
       " 'Warren',\n",
       " 'Washington',\n",
       " 'Waterbury',\n",
       " 'West Covina',\n",
       " 'West Jordan',\n",
       " 'West Palm Beach',\n",
       " 'West Valley City',\n",
       " 'Westminster',\n",
       " 'Wichita',\n",
       " 'Wichita Falls',\n",
       " 'Wilmington',\n",
       " 'Winston–Salem',\n",
       " 'Worcester',\n",
       " 'Yonkers']"
      ]
     },
     "execution_count": 5,
     "metadata": {},
     "output_type": "execute_result"
    }
   ],
   "source": [
    "sorted(df_population.City.unique())"
   ]
  },
  {
   "cell_type": "code",
   "execution_count": 6,
   "metadata": {},
   "outputs": [
    {
     "data": {
      "text/html": [
       "<div>\n",
       "<style scoped>\n",
       "    .dataframe tbody tr th:only-of-type {\n",
       "        vertical-align: middle;\n",
       "    }\n",
       "\n",
       "    .dataframe tbody tr th {\n",
       "        vertical-align: top;\n",
       "    }\n",
       "\n",
       "    .dataframe thead th {\n",
       "        text-align: right;\n",
       "    }\n",
       "</style>\n",
       "<table border=\"1\" class=\"dataframe\">\n",
       "  <thead>\n",
       "    <tr style=\"text-align: right;\">\n",
       "      <th></th>\n",
       "      <th>City</th>\n",
       "      <th>State</th>\n",
       "      <th>population</th>\n",
       "      <th>Lon</th>\n",
       "      <th>Lat</th>\n",
       "    </tr>\n",
       "  </thead>\n",
       "  <tbody>\n",
       "    <tr>\n",
       "      <th>7</th>\n",
       "      <td>Buffalo</td>\n",
       "      <td>New York</td>\n",
       "      <td>261025</td>\n",
       "      <td>-78.8597</td>\n",
       "      <td>42.8925</td>\n",
       "    </tr>\n",
       "    <tr>\n",
       "      <th>8</th>\n",
       "      <td>Rochester</td>\n",
       "      <td>New York</td>\n",
       "      <td>210855</td>\n",
       "      <td>-77.6169</td>\n",
       "      <td>43.1699</td>\n",
       "    </tr>\n",
       "    <tr>\n",
       "      <th>9</th>\n",
       "      <td>Syracuse</td>\n",
       "      <td>New York</td>\n",
       "      <td>145151</td>\n",
       "      <td>-76.1436</td>\n",
       "      <td>43.0410</td>\n",
       "    </tr>\n",
       "    <tr>\n",
       "      <th>10</th>\n",
       "      <td>New York</td>\n",
       "      <td>New York</td>\n",
       "      <td>8244910</td>\n",
       "      <td>-73.9385</td>\n",
       "      <td>40.6643</td>\n",
       "    </tr>\n",
       "    <tr>\n",
       "      <th>11</th>\n",
       "      <td>Yonkers</td>\n",
       "      <td>New York</td>\n",
       "      <td>197399</td>\n",
       "      <td>-73.8674</td>\n",
       "      <td>40.9459</td>\n",
       "    </tr>\n",
       "  </tbody>\n",
       "</table>\n",
       "</div>"
      ],
      "text/plain": [
       "         City     State  population      Lon      Lat\n",
       "7     Buffalo  New York      261025 -78.8597  42.8925\n",
       "8   Rochester  New York      210855 -77.6169  43.1699\n",
       "9    Syracuse  New York      145151 -76.1436  43.0410\n",
       "10   New York  New York     8244910 -73.9385  40.6643\n",
       "11    Yonkers  New York      197399 -73.8674  40.9459"
      ]
     },
     "execution_count": 6,
     "metadata": {},
     "output_type": "execute_result"
    }
   ],
   "source": [
    "df_population[df_population.State == 'New York']"
   ]
  },
  {
   "cell_type": "code",
   "execution_count": 7,
   "metadata": {
    "scrolled": true
   },
   "outputs": [
    {
     "data": {
      "text/html": [
       "<div>\n",
       "<style scoped>\n",
       "    .dataframe tbody tr th:only-of-type {\n",
       "        vertical-align: middle;\n",
       "    }\n",
       "\n",
       "    .dataframe tbody tr th {\n",
       "        vertical-align: top;\n",
       "    }\n",
       "\n",
       "    .dataframe thead th {\n",
       "        text-align: right;\n",
       "    }\n",
       "</style>\n",
       "<table border=\"1\" class=\"dataframe\">\n",
       "  <thead>\n",
       "    <tr style=\"text-align: right;\">\n",
       "      <th></th>\n",
       "      <th>name</th>\n",
       "      <th>country_name</th>\n",
       "      <th>country_code</th>\n",
       "      <th>continent</th>\n",
       "      <th>station_code</th>\n",
       "      <th>location_date</th>\n",
       "      <th>temp_mean_c</th>\n",
       "      <th>temp_min_c</th>\n",
       "      <th>temp_max_c</th>\n",
       "    </tr>\n",
       "  </thead>\n",
       "  <tbody>\n",
       "    <tr>\n",
       "      <th>0</th>\n",
       "      <td>Atlanta</td>\n",
       "      <td>UnitedStates</td>\n",
       "      <td>USA</td>\n",
       "      <td>North America</td>\n",
       "      <td>KATL</td>\n",
       "      <td>4/20/2021</td>\n",
       "      <td>17.491667</td>\n",
       "      <td>12.2</td>\n",
       "      <td>23.3</td>\n",
       "    </tr>\n",
       "    <tr>\n",
       "      <th>1</th>\n",
       "      <td>Windsor Locks</td>\n",
       "      <td>UnitedStates</td>\n",
       "      <td>USA</td>\n",
       "      <td>North America</td>\n",
       "      <td>KBDL</td>\n",
       "      <td>4/20/2021</td>\n",
       "      <td>13.887500</td>\n",
       "      <td>3.9</td>\n",
       "      <td>22.2</td>\n",
       "    </tr>\n",
       "    <tr>\n",
       "      <th>2</th>\n",
       "      <td>Nashville</td>\n",
       "      <td>UnitedStates</td>\n",
       "      <td>USA</td>\n",
       "      <td>North America</td>\n",
       "      <td>KBNA</td>\n",
       "      <td>4/20/2021</td>\n",
       "      <td>15.175000</td>\n",
       "      <td>6.7</td>\n",
       "      <td>23.3</td>\n",
       "    </tr>\n",
       "    <tr>\n",
       "      <th>3</th>\n",
       "      <td>Boise</td>\n",
       "      <td>UnitedStates</td>\n",
       "      <td>USA</td>\n",
       "      <td>North America</td>\n",
       "      <td>KBOI</td>\n",
       "      <td>4/20/2021</td>\n",
       "      <td>9.329167</td>\n",
       "      <td>1.7</td>\n",
       "      <td>15.6</td>\n",
       "    </tr>\n",
       "    <tr>\n",
       "      <th>4</th>\n",
       "      <td>Boston</td>\n",
       "      <td>UnitedStates</td>\n",
       "      <td>USA</td>\n",
       "      <td>North America</td>\n",
       "      <td>KBOS</td>\n",
       "      <td>4/20/2021</td>\n",
       "      <td>16.716667</td>\n",
       "      <td>10.0</td>\n",
       "      <td>23.9</td>\n",
       "    </tr>\n",
       "    <tr>\n",
       "      <th>...</th>\n",
       "      <td>...</td>\n",
       "      <td>...</td>\n",
       "      <td>...</td>\n",
       "      <td>...</td>\n",
       "      <td>...</td>\n",
       "      <td>...</td>\n",
       "      <td>...</td>\n",
       "      <td>...</td>\n",
       "      <td>...</td>\n",
       "    </tr>\n",
       "    <tr>\n",
       "      <th>89214</th>\n",
       "      <td>Sacramento/Execu</td>\n",
       "      <td>UnitedStates</td>\n",
       "      <td>USA</td>\n",
       "      <td>North America</td>\n",
       "      <td>KSAC</td>\n",
       "      <td>1/1/2015</td>\n",
       "      <td>3.500000</td>\n",
       "      <td>-1.7</td>\n",
       "      <td>10.6</td>\n",
       "    </tr>\n",
       "    <tr>\n",
       "      <th>89215</th>\n",
       "      <td>Portland</td>\n",
       "      <td>UnitedStates</td>\n",
       "      <td>USA</td>\n",
       "      <td>North America</td>\n",
       "      <td>KPWM</td>\n",
       "      <td>1/1/2015</td>\n",
       "      <td>-3.454167</td>\n",
       "      <td>-7.8</td>\n",
       "      <td>-0.6</td>\n",
       "    </tr>\n",
       "    <tr>\n",
       "      <th>89216</th>\n",
       "      <td>Raleigh/Durham</td>\n",
       "      <td>UnitedStates</td>\n",
       "      <td>USA</td>\n",
       "      <td>North America</td>\n",
       "      <td>KRDU</td>\n",
       "      <td>1/1/2015</td>\n",
       "      <td>3.291667</td>\n",
       "      <td>-4.4</td>\n",
       "      <td>10.6</td>\n",
       "    </tr>\n",
       "    <tr>\n",
       "      <th>89217</th>\n",
       "      <td>Pittsburgh</td>\n",
       "      <td>UnitedStates</td>\n",
       "      <td>USA</td>\n",
       "      <td>North America</td>\n",
       "      <td>KPIT</td>\n",
       "      <td>1/1/2015</td>\n",
       "      <td>-2.570833</td>\n",
       "      <td>-6.7</td>\n",
       "      <td>1.7</td>\n",
       "    </tr>\n",
       "    <tr>\n",
       "      <th>89218</th>\n",
       "      <td>Phoenix/Sky HRBR</td>\n",
       "      <td>UnitedStates</td>\n",
       "      <td>USA</td>\n",
       "      <td>North America</td>\n",
       "      <td>KPHX</td>\n",
       "      <td>1/1/2015</td>\n",
       "      <td>4.354167</td>\n",
       "      <td>1.7</td>\n",
       "      <td>7.2</td>\n",
       "    </tr>\n",
       "  </tbody>\n",
       "</table>\n",
       "<p>89219 rows × 9 columns</p>\n",
       "</div>"
      ],
      "text/plain": [
       "                   name  country_name country_code      continent  \\\n",
       "0               Atlanta  UnitedStates          USA  North America   \n",
       "1         Windsor Locks  UnitedStates          USA  North America   \n",
       "2             Nashville  UnitedStates          USA  North America   \n",
       "3                 Boise  UnitedStates          USA  North America   \n",
       "4                Boston  UnitedStates          USA  North America   \n",
       "...                 ...           ...          ...            ...   \n",
       "89214  Sacramento/Execu  UnitedStates          USA  North America   \n",
       "89215          Portland  UnitedStates          USA  North America   \n",
       "89216    Raleigh/Durham  UnitedStates          USA  North America   \n",
       "89217        Pittsburgh  UnitedStates          USA  North America   \n",
       "89218  Phoenix/Sky HRBR  UnitedStates          USA  North America   \n",
       "\n",
       "      station_code location_date  temp_mean_c  temp_min_c  temp_max_c  \n",
       "0             KATL     4/20/2021    17.491667        12.2        23.3  \n",
       "1             KBDL     4/20/2021    13.887500         3.9        22.2  \n",
       "2             KBNA     4/20/2021    15.175000         6.7        23.3  \n",
       "3             KBOI     4/20/2021     9.329167         1.7        15.6  \n",
       "4             KBOS     4/20/2021    16.716667        10.0        23.9  \n",
       "...            ...           ...          ...         ...         ...  \n",
       "89214         KSAC      1/1/2015     3.500000        -1.7        10.6  \n",
       "89215         KPWM      1/1/2015    -3.454167        -7.8        -0.6  \n",
       "89216         KRDU      1/1/2015     3.291667        -4.4        10.6  \n",
       "89217         KPIT      1/1/2015    -2.570833        -6.7         1.7  \n",
       "89218         KPHX      1/1/2015     4.354167         1.7         7.2  \n",
       "\n",
       "[89219 rows x 9 columns]"
      ]
     },
     "execution_count": 7,
     "metadata": {},
     "output_type": "execute_result"
    }
   ],
   "source": [
    "df_temperature"
   ]
  },
  {
   "cell_type": "code",
   "execution_count": null,
   "metadata": {},
   "outputs": [],
   "source": []
  },
  {
   "cell_type": "code",
   "execution_count": 8,
   "metadata": {},
   "outputs": [],
   "source": [
    "# Lookup name to get population (Bit slow, should flip lookup)\n",
    "name_pop = {}\n",
    "name_pop['Unknown'] = 0\n",
    "unknown = []\n",
    "for name in df_temperature.name.values:\n",
    "    # Lookup both names\n",
    "    split_name = name.split('/')\n",
    "    primary_name = split_name[0]\n",
    "    if primary_name in df_population.City.values:\n",
    "        name_pop[name] = df_population[df_population['City'] == primary_name].population.values[0]\n",
    "    elif len(split_name) > 1:\n",
    "        secondary_name = split_name[1]\n",
    "        if split_name[1] in df_population.City.values:\n",
    "            name_pop[name] = df_population[df_population['City'] == secondary_name].population.values[0]\n",
    "    else:\n",
    "        name_pop['Unknown'] += 1\n",
    "        unknown.append(split_name)"
   ]
  },
  {
   "cell_type": "code",
   "execution_count": 9,
   "metadata": {},
   "outputs": [
    {
     "data": {
      "text/plain": [
       "array(['Atlanta', 'Windsor Locks', 'Nashville', 'Boise', 'Boston',\n",
       "       'Buffalo', 'Burbank', 'Baltimore', 'Columbus', 'Los Angeles',\n",
       "       'Covington', 'Washington', 'Denver', 'Dallas', 'Detroit/Wayne',\n",
       "       'Fresno', 'Spokane', 'Wash DC/Dulles', 'Houston', 'Las Vegas',\n",
       "       'NYC/LaGuardia', 'Little Rock', 'Memphis', 'Minneapolis',\n",
       "       'New Orleans', \"Chicago O'Hare\", 'Portland', 'Philadelphia',\n",
       "       'Phoenix/Sky HRBR', 'Pittsburgh', 'Raleigh/Durham', 'Richmond',\n",
       "       'Sacramento/Execu', 'Seattle', 'San Francisco', 'Salt Lake City',\n",
       "       'St Louis/Lambert', 'Albany'], dtype=object)"
      ]
     },
     "execution_count": 9,
     "metadata": {},
     "output_type": "execute_result"
    }
   ],
   "source": [
    "# 38 cities\n",
    "df_temperature.name.unique()"
   ]
  },
  {
   "cell_type": "code",
   "execution_count": 10,
   "metadata": {},
   "outputs": [
    {
     "data": {
      "text/plain": [
       "array(['Atlanta', 'Windsor Locks', 'Nashville', 'Boise', 'Boston',\n",
       "       'Buffalo', 'Burbank', 'Baltimore', 'Columbus', 'Los Angeles',\n",
       "       'Covington', 'Washington', 'Denver', 'Dallas', 'Detroit/Wayne',\n",
       "       'Fresno', 'Spokane', 'Wash DC/Dulles', 'Houston', 'Las Vegas',\n",
       "       'NYC/LaGuardia', 'Little Rock', 'Memphis', 'Minneapolis',\n",
       "       'New Orleans', \"Chicago O'Hare\", 'Portland', 'Philadelphia',\n",
       "       'Phoenix/Sky HRBR', 'Pittsburgh', 'Raleigh/Durham', 'Richmond',\n",
       "       'Sacramento/Execu', 'Seattle', 'San Francisco', 'Salt Lake City',\n",
       "       'St Louis/Lambert', 'Albany'], dtype=object)"
      ]
     },
     "execution_count": 10,
     "metadata": {},
     "output_type": "execute_result"
    }
   ],
   "source": [
    "df_temperature.name.unique()"
   ]
  },
  {
   "cell_type": "code",
   "execution_count": 11,
   "metadata": {},
   "outputs": [
    {
     "data": {
      "text/plain": [
       "(array(['Albany', \"Chicago O'Hare\", 'Covington', 'Windsor Locks'],\n",
       "       dtype='<U14'),\n",
       " array([2287, 2288, 2287, 2288]))"
      ]
     },
     "execution_count": 11,
     "metadata": {},
     "output_type": "execute_result"
    }
   ],
   "source": [
    "# Missing populations in the dataset:\n",
    "np.unique(unknown, return_counts=True)"
   ]
  },
  {
   "cell_type": "code",
   "execution_count": 12,
   "metadata": {},
   "outputs": [],
   "source": [
    "# Missing populations in the dataset:\n",
    "missing_cities = ['Albany', \"Chicago O'Hare\", 'Covington', 'Windsor Locks']"
   ]
  },
  {
   "cell_type": "code",
   "execution_count": 18,
   "metadata": {},
   "outputs": [
    {
     "data": {
      "text/html": [
       "<div>\n",
       "<style scoped>\n",
       "    .dataframe tbody tr th:only-of-type {\n",
       "        vertical-align: middle;\n",
       "    }\n",
       "\n",
       "    .dataframe tbody tr th {\n",
       "        vertical-align: top;\n",
       "    }\n",
       "\n",
       "    .dataframe thead th {\n",
       "        text-align: right;\n",
       "    }\n",
       "</style>\n",
       "<table border=\"1\" class=\"dataframe\">\n",
       "  <thead>\n",
       "    <tr style=\"text-align: right;\">\n",
       "      <th></th>\n",
       "      <th>City</th>\n",
       "      <th>State</th>\n",
       "      <th>population</th>\n",
       "      <th>Lon</th>\n",
       "      <th>Lat</th>\n",
       "    </tr>\n",
       "  </thead>\n",
       "  <tbody>\n",
       "    <tr>\n",
       "      <th>150</th>\n",
       "      <td>Chicago</td>\n",
       "      <td>Illinois</td>\n",
       "      <td>2707120</td>\n",
       "      <td>-87.6818</td>\n",
       "      <td>41.8376</td>\n",
       "    </tr>\n",
       "  </tbody>\n",
       "</table>\n",
       "</div>"
      ],
      "text/plain": [
       "        City     State  population      Lon      Lat\n",
       "150  Chicago  Illinois     2707120 -87.6818  41.8376"
      ]
     },
     "execution_count": 18,
     "metadata": {},
     "output_type": "execute_result"
    }
   ],
   "source": [
    "df_population[df_population['City'] == 'Chicago']"
   ]
  },
  {
   "cell_type": "code",
   "execution_count": 22,
   "metadata": {},
   "outputs": [
    {
     "data": {
      "text/html": [
       "<div>\n",
       "<style scoped>\n",
       "    .dataframe tbody tr th:only-of-type {\n",
       "        vertical-align: middle;\n",
       "    }\n",
       "\n",
       "    .dataframe tbody tr th {\n",
       "        vertical-align: top;\n",
       "    }\n",
       "\n",
       "    .dataframe thead th {\n",
       "        text-align: right;\n",
       "    }\n",
       "</style>\n",
       "<table border=\"1\" class=\"dataframe\">\n",
       "  <thead>\n",
       "    <tr style=\"text-align: right;\">\n",
       "      <th></th>\n",
       "      <th>City</th>\n",
       "      <th>State</th>\n",
       "      <th>population</th>\n",
       "      <th>Lon</th>\n",
       "      <th>Lat</th>\n",
       "    </tr>\n",
       "  </thead>\n",
       "  <tbody>\n",
       "  </tbody>\n",
       "</table>\n",
       "</div>"
      ],
      "text/plain": [
       "Empty DataFrame\n",
       "Columns: [City, State, population, Lon, Lat]\n",
       "Index: []"
      ]
     },
     "execution_count": 22,
     "metadata": {},
     "output_type": "execute_result"
    }
   ],
   "source": [
    "df_population[df_population['City'] == 'Albany']"
   ]
  },
  {
   "cell_type": "code",
   "execution_count": null,
   "metadata": {},
   "outputs": [],
   "source": []
  },
  {
   "cell_type": "code",
   "execution_count": 13,
   "metadata": {},
   "outputs": [],
   "source": [
    "df_temperature['population'] = df_temperature.name.apply(lambda x: name_pop[x] if x in name_pop else float('nan'))"
   ]
  },
  {
   "cell_type": "code",
   "execution_count": 17,
   "metadata": {
    "scrolled": true
   },
   "outputs": [
    {
     "data": {
      "text/html": [
       "<div>\n",
       "<style scoped>\n",
       "    .dataframe tbody tr th:only-of-type {\n",
       "        vertical-align: middle;\n",
       "    }\n",
       "\n",
       "    .dataframe tbody tr th {\n",
       "        vertical-align: top;\n",
       "    }\n",
       "\n",
       "    .dataframe thead th {\n",
       "        text-align: right;\n",
       "    }\n",
       "</style>\n",
       "<table border=\"1\" class=\"dataframe\">\n",
       "  <thead>\n",
       "    <tr style=\"text-align: right;\">\n",
       "      <th></th>\n",
       "      <th>name</th>\n",
       "      <th>country_name</th>\n",
       "      <th>country_code</th>\n",
       "      <th>continent</th>\n",
       "      <th>station_code</th>\n",
       "      <th>location_date</th>\n",
       "      <th>temp_mean_c</th>\n",
       "      <th>temp_min_c</th>\n",
       "      <th>temp_max_c</th>\n",
       "      <th>population</th>\n",
       "    </tr>\n",
       "  </thead>\n",
       "  <tbody>\n",
       "    <tr>\n",
       "      <th>1</th>\n",
       "      <td>Windsor Locks</td>\n",
       "      <td>UnitedStates</td>\n",
       "      <td>USA</td>\n",
       "      <td>North America</td>\n",
       "      <td>KBDL</td>\n",
       "      <td>4/20/2021</td>\n",
       "      <td>13.887500</td>\n",
       "      <td>3.9</td>\n",
       "      <td>22.2</td>\n",
       "      <td>NaN</td>\n",
       "    </tr>\n",
       "    <tr>\n",
       "      <th>74</th>\n",
       "      <td>Windsor Locks</td>\n",
       "      <td>UnitedStates</td>\n",
       "      <td>USA</td>\n",
       "      <td>North America</td>\n",
       "      <td>KBDL</td>\n",
       "      <td>4/19/2021</td>\n",
       "      <td>12.633333</td>\n",
       "      <td>6.7</td>\n",
       "      <td>18.3</td>\n",
       "      <td>NaN</td>\n",
       "    </tr>\n",
       "    <tr>\n",
       "      <th>79</th>\n",
       "      <td>Windsor Locks</td>\n",
       "      <td>UnitedStates</td>\n",
       "      <td>USA</td>\n",
       "      <td>North America</td>\n",
       "      <td>KBDL</td>\n",
       "      <td>4/18/2021</td>\n",
       "      <td>11.487500</td>\n",
       "      <td>5.6</td>\n",
       "      <td>17.8</td>\n",
       "      <td>NaN</td>\n",
       "    </tr>\n",
       "    <tr>\n",
       "      <th>152</th>\n",
       "      <td>Windsor Locks</td>\n",
       "      <td>UnitedStates</td>\n",
       "      <td>USA</td>\n",
       "      <td>North America</td>\n",
       "      <td>KBDL</td>\n",
       "      <td>4/17/2021</td>\n",
       "      <td>7.737500</td>\n",
       "      <td>5.0</td>\n",
       "      <td>11.1</td>\n",
       "      <td>NaN</td>\n",
       "    </tr>\n",
       "    <tr>\n",
       "      <th>157</th>\n",
       "      <td>Windsor Locks</td>\n",
       "      <td>UnitedStates</td>\n",
       "      <td>USA</td>\n",
       "      <td>North America</td>\n",
       "      <td>KBDL</td>\n",
       "      <td>4/16/2021</td>\n",
       "      <td>3.883333</td>\n",
       "      <td>1.7</td>\n",
       "      <td>5.6</td>\n",
       "      <td>NaN</td>\n",
       "    </tr>\n",
       "    <tr>\n",
       "      <th>...</th>\n",
       "      <td>...</td>\n",
       "      <td>...</td>\n",
       "      <td>...</td>\n",
       "      <td>...</td>\n",
       "      <td>...</td>\n",
       "      <td>...</td>\n",
       "      <td>...</td>\n",
       "      <td>...</td>\n",
       "      <td>...</td>\n",
       "      <td>...</td>\n",
       "    </tr>\n",
       "    <tr>\n",
       "      <th>89026</th>\n",
       "      <td>Windsor Locks</td>\n",
       "      <td>UnitedStates</td>\n",
       "      <td>USA</td>\n",
       "      <td>North America</td>\n",
       "      <td>KBDL</td>\n",
       "      <td>1/5/2015</td>\n",
       "      <td>-1.429167</td>\n",
       "      <td>-9.4</td>\n",
       "      <td>6.1</td>\n",
       "      <td>NaN</td>\n",
       "    </tr>\n",
       "    <tr>\n",
       "      <th>89099</th>\n",
       "      <td>Windsor Locks</td>\n",
       "      <td>UnitedStates</td>\n",
       "      <td>USA</td>\n",
       "      <td>North America</td>\n",
       "      <td>KBDL</td>\n",
       "      <td>1/4/2015</td>\n",
       "      <td>1.754167</td>\n",
       "      <td>-1.1</td>\n",
       "      <td>8.9</td>\n",
       "      <td>NaN</td>\n",
       "    </tr>\n",
       "    <tr>\n",
       "      <th>89104</th>\n",
       "      <td>Windsor Locks</td>\n",
       "      <td>UnitedStates</td>\n",
       "      <td>USA</td>\n",
       "      <td>North America</td>\n",
       "      <td>KBDL</td>\n",
       "      <td>1/3/2015</td>\n",
       "      <td>-2.258333</td>\n",
       "      <td>-5.0</td>\n",
       "      <td>1.1</td>\n",
       "      <td>NaN</td>\n",
       "    </tr>\n",
       "    <tr>\n",
       "      <th>89177</th>\n",
       "      <td>Windsor Locks</td>\n",
       "      <td>UnitedStates</td>\n",
       "      <td>USA</td>\n",
       "      <td>North America</td>\n",
       "      <td>KBDL</td>\n",
       "      <td>1/2/2015</td>\n",
       "      <td>0.466667</td>\n",
       "      <td>-3.3</td>\n",
       "      <td>3.3</td>\n",
       "      <td>NaN</td>\n",
       "    </tr>\n",
       "    <tr>\n",
       "      <th>89182</th>\n",
       "      <td>Windsor Locks</td>\n",
       "      <td>UnitedStates</td>\n",
       "      <td>USA</td>\n",
       "      <td>North America</td>\n",
       "      <td>KBDL</td>\n",
       "      <td>1/1/2015</td>\n",
       "      <td>-1.991667</td>\n",
       "      <td>-7.8</td>\n",
       "      <td>1.1</td>\n",
       "      <td>NaN</td>\n",
       "    </tr>\n",
       "  </tbody>\n",
       "</table>\n",
       "<p>2288 rows × 10 columns</p>\n",
       "</div>"
      ],
      "text/plain": [
       "                name  country_name country_code      continent station_code  \\\n",
       "1      Windsor Locks  UnitedStates          USA  North America         KBDL   \n",
       "74     Windsor Locks  UnitedStates          USA  North America         KBDL   \n",
       "79     Windsor Locks  UnitedStates          USA  North America         KBDL   \n",
       "152    Windsor Locks  UnitedStates          USA  North America         KBDL   \n",
       "157    Windsor Locks  UnitedStates          USA  North America         KBDL   \n",
       "...              ...           ...          ...            ...          ...   \n",
       "89026  Windsor Locks  UnitedStates          USA  North America         KBDL   \n",
       "89099  Windsor Locks  UnitedStates          USA  North America         KBDL   \n",
       "89104  Windsor Locks  UnitedStates          USA  North America         KBDL   \n",
       "89177  Windsor Locks  UnitedStates          USA  North America         KBDL   \n",
       "89182  Windsor Locks  UnitedStates          USA  North America         KBDL   \n",
       "\n",
       "      location_date  temp_mean_c  temp_min_c  temp_max_c  population  \n",
       "1         4/20/2021    13.887500         3.9        22.2         NaN  \n",
       "74        4/19/2021    12.633333         6.7        18.3         NaN  \n",
       "79        4/18/2021    11.487500         5.6        17.8         NaN  \n",
       "152       4/17/2021     7.737500         5.0        11.1         NaN  \n",
       "157       4/16/2021     3.883333         1.7         5.6         NaN  \n",
       "...             ...          ...         ...         ...         ...  \n",
       "89026      1/5/2015    -1.429167        -9.4         6.1         NaN  \n",
       "89099      1/4/2015     1.754167        -1.1         8.9         NaN  \n",
       "89104      1/3/2015    -2.258333        -5.0         1.1         NaN  \n",
       "89177      1/2/2015     0.466667        -3.3         3.3         NaN  \n",
       "89182      1/1/2015    -1.991667        -7.8         1.1         NaN  \n",
       "\n",
       "[2288 rows x 10 columns]"
      ]
     },
     "execution_count": 17,
     "metadata": {},
     "output_type": "execute_result"
    }
   ],
   "source": [
    "df_temperature[df_temperature['station_code'] == 'KBDL']"
   ]
  },
  {
   "cell_type": "code",
   "execution_count": 69,
   "metadata": {},
   "outputs": [],
   "source": [
    "# Group by dates, to the total population, grouped by location date\n"
   ]
  },
  {
   "cell_type": "code",
   "execution_count": 78,
   "metadata": {},
   "outputs": [
    {
     "data": {
      "text/plain": [
       "22907360.0    2279\n",
       "1469471.0       14\n",
       "15725414.0       1\n",
       "22646335.0       1\n",
       "22114193.0       1\n",
       "19344164.0       1\n",
       "21694047.0       1\n",
       "21538899.0       1\n",
       "21904635.0       1\n",
       "20716521.0       1\n",
       "22287392.0       1\n",
       "Name: population, dtype: int64"
      ]
     },
     "execution_count": 78,
     "metadata": {},
     "output_type": "execute_result"
    }
   ],
   "source": [
    "df_temperature.groupby('location_date').sum().population.value_counts()"
   ]
  },
  {
   "cell_type": "code",
   "execution_count": 121,
   "metadata": {},
   "outputs": [],
   "source": [
    "def fix_date(x):\n",
    "    \"\"\"Fix dates which don't have leading zeros.\"\"\"\n",
    "    components = x.split(\"/\")\n",
    "    components = [comp if len(comp) >= 2 else f\"{int(comp):02d}\" for comp in components]\n",
    "    return \"/\".join(components)"
   ]
  },
  {
   "cell_type": "code",
   "execution_count": 120,
   "metadata": {},
   "outputs": [
    {
     "data": {
      "text/plain": [
       "'09/09/2020'"
      ]
     },
     "execution_count": 120,
     "metadata": {},
     "output_type": "execute_result"
    }
   ],
   "source": [
    "fix_dates(dates[-1])"
   ]
  },
  {
   "cell_type": "code",
   "execution_count": 127,
   "metadata": {},
   "outputs": [],
   "source": [
    "import datetime as datetime\n",
    "df_temperature['datetime'] = df_temperature['location_date'].apply(lambda x: datetime.datetime.strptime(x, \"%m/%d/%Y\"))"
   ]
  },
  {
   "cell_type": "code",
   "execution_count": 130,
   "metadata": {},
   "outputs": [
    {
     "data": {
      "text/plain": [
       "numpy.datetime64('2021-04-20T00:00:00.000000000')"
      ]
     },
     "execution_count": 130,
     "metadata": {},
     "output_type": "execute_result"
    }
   ],
   "source": [
    "sorted(df_temperature.datetime.values)[-1]"
   ]
  },
  {
   "cell_type": "code",
   "execution_count": 131,
   "metadata": {},
   "outputs": [
    {
     "name": "stdout",
     "output_type": "stream",
     "text": [
      "2015-01-01T00:00:00.000000000 2021-04-20T00:00:00.000000000\n"
     ]
    }
   ],
   "source": [
    "# Date range 01/01/2015 - 04/20/2021 (2302 days)\n",
    "dates = sorted(df_temperature.datetime.unique())\n",
    "print(dates[0], dates[-1])"
   ]
  },
  {
   "cell_type": "code",
   "execution_count": 132,
   "metadata": {},
   "outputs": [
    {
     "data": {
      "text/plain": [
       "2302"
      ]
     },
     "execution_count": 132,
     "metadata": {},
     "output_type": "execute_result"
    }
   ],
   "source": [
    "# We have at least one value for every date. Let's plot the summed population by date\n",
    "len(dates)"
   ]
  },
  {
   "cell_type": "code",
   "execution_count": 136,
   "metadata": {},
   "outputs": [],
   "source": [
    "datetime_totalpop = df_temperature.groupby('datetime').sum().population"
   ]
  },
  {
   "cell_type": "code",
   "execution_count": null,
   "metadata": {},
   "outputs": [],
   "source": []
  },
  {
   "cell_type": "code",
   "execution_count": 145,
   "metadata": {
    "scrolled": false
   },
   "outputs": [
    {
     "data": {
      "text/plain": [
       "<AxesSubplot:xlabel='year', ylabel='value'>"
      ]
     },
     "execution_count": 145,
     "metadata": {},
     "output_type": "execute_result"
    },
    {
     "data": {
      "image/png": "[encoded data removed]",
      "text/plain": [
       "<Figure size 432x288 with 1 Axes>"
      ]
     },
     "metadata": {
      "needs_background": "light"
     },
     "output_type": "display_data"
    }
   ],
   "source": [
    "#\n",
    "\n",
    "datetime_totalpop = df_temperature.groupby('datetime').sum().population\n",
    "\n",
    "#Plot total populations of operational station cities. \n",
    "df_f = datetime_totalpop.to_frame()\n",
    "df_f.reset_index(inplace=True)\n",
    "df_f.columns = ['year','value']\n",
    "\n",
    "df_f.plot(kind = 'scatter', x='year', y='value')"
   ]
  },
  {
   "cell_type": "code",
   "execution_count": 189,
   "metadata": {},
   "outputs": [],
   "source": [
    "def population_weighted_temperature(df):\n",
    "    \"\"\" Population weighted mean is\n",
    "    (pop_1*temp_1 + ... + pop_n*temp_n)/(pop_1 +...+ pop_n)\"\"\"\n",
    "    datetime_totalpop = df.groupby('datetime').sum().population\n",
    "    df['temp_pop_prod'] = df.apply(lambda x: x['temp_mean_c']*x['population'], axis=1)\n",
    "\n",
    "    population_weighted_temps = (df.groupby('datetime').sum().temp_pop_prod)/datetime_totalpop\n",
    "    return population_weighted_temps"
   ]
  },
  {
   "cell_type": "code",
   "execution_count": 188,
   "metadata": {},
   "outputs": [
    {
     "data": {
      "text/plain": [
       "datetime\n",
       "2015-01-01     2.661411\n",
       "2015-01-02     4.620273\n",
       "2015-01-03     5.667667\n",
       "2015-01-04     6.776247\n",
       "2015-01-05     5.184007\n",
       "                ...    \n",
       "2021-04-16    13.532090\n",
       "2021-04-17    13.873307\n",
       "2021-04-18    15.708516\n",
       "2021-04-19    15.470641\n",
       "2021-04-20    15.227331\n",
       "Length: 2302, dtype: float64"
      ]
     },
     "execution_count": 188,
     "metadata": {},
     "output_type": "execute_result"
    }
   ],
   "source": [
    "population_weighted_temperature(df_temperature)"
   ]
  },
  {
   "cell_type": "code",
   "execution_count": 184,
   "metadata": {},
   "outputs": [
    {
     "data": {
      "text/plain": [
       "datetime\n",
       "2015-01-01     2.661411\n",
       "2015-01-02     4.620273\n",
       "2015-01-03     5.667667\n",
       "2015-01-04     6.776247\n",
       "2015-01-05     5.184007\n",
       "                ...    \n",
       "2021-04-16    13.532090\n",
       "2021-04-17    13.873307\n",
       "2021-04-18    15.708516\n",
       "2021-04-19    15.470641\n",
       "2021-04-20    15.227331\n",
       "Length: 2302, dtype: float64"
      ]
     },
     "execution_count": 184,
     "metadata": {},
     "output_type": "execute_result"
    }
   ],
   "source": [
    "population_weighted_temps"
   ]
  },
  {
   "cell_type": "code",
   "execution_count": 35,
   "metadata": {},
   "outputs": [],
   "source": [
    "def plot_series_scatter(series):\n",
    "    #Plot weighted temperature\n",
    "    df_plot = series.to_frame()\n",
    "    df_plot.reset_index(inplace=True)\n",
    "    df_plot.columns = ['year','y']\n",
    "\n",
    "    df_plot.plot(kind = 'scatter', x='year', y='y')\n",
    "    \n",
    "def plot_series_array_scatter(series_array):\n",
    "    #Plot a list of timeseries, each in a different color\n",
    "\n",
    "    fig, ax = plt.subplots()\n",
    "    colors = ['blue', 'green', 'red', 'cyan', 'magenta', \n",
    "              'yellow', 'black', 'white']\n",
    "    for i,series in enumerate(series_array):\n",
    "        df_plot = series.to_frame()\n",
    "        df_plot.reset_index(inplace=True)\n",
    "        df_plot.columns = ['year','y']\n",
    "        ax.scatter(df_plot.year, df_plot.y,  color=colors[i%(len(colors))])\n",
    "        #df_plot.plot(kind = 'line', x='year', y='y', color=colors[i%(len(colors))], ax=ax)"
   ]
  },
  {
   "cell_type": "code",
   "execution_count": null,
   "metadata": {},
   "outputs": [],
   "source": []
  },
  {
   "cell_type": "code",
   "execution_count": 212,
   "metadata": {},
   "outputs": [
    {
     "data": {
      "text/plain": [
       "datetime\n",
       "2015-01-01     2.661411\n",
       "2015-01-02     4.620273\n",
       "2015-01-03     5.667667\n",
       "2015-01-04     6.776247\n",
       "2015-01-05     5.184007\n",
       "                ...    \n",
       "2021-04-16    13.532090\n",
       "2021-04-17    13.873307\n",
       "2021-04-18    15.708516\n",
       "2021-04-19    15.470641\n",
       "2021-04-20    15.227331\n",
       "Length: 2302, dtype: float64"
      ]
     },
     "execution_count": 212,
     "metadata": {},
     "output_type": "execute_result"
    },
    {
     "data": {
      "image/png": "[encoded data removed]",
      "text/plain": [
       "<Figure size 432x288 with 1 Axes>"
      ]
     },
     "metadata": {
      "needs_background": "light"
     },
     "output_type": "display_data"
    }
   ],
   "source": [
    "#Plot weighted temperature\n",
    "plot_series_scatter(population_weighted_temps)\n",
    "population_weighted_temps"
   ]
  },
  {
   "cell_type": "code",
   "execution_count": 37,
   "metadata": {},
   "outputs": [
    {
     "data": {
      "image/png": "[encoded data removed]",
      "text/plain": [
       "<Figure size 432x288 with 1 Axes>"
      ]
     },
     "metadata": {
      "needs_background": "light"
     },
     "output_type": "display_data"
    }
   ],
   "source": [
    "plot_series_scatter(df_daily['temp_mean'])\n"
   ]
  },
  {
   "cell_type": "code",
   "execution_count": 40,
   "metadata": {},
   "outputs": [
    {
     "data": {
      "text/plain": [
       "2302"
      ]
     },
     "execution_count": 40,
     "metadata": {},
     "output_type": "execute_result"
    }
   ],
   "source": [
    "len(df_daily.date.unique())"
   ]
  },
  {
   "cell_type": "code",
   "execution_count": 41,
   "metadata": {},
   "outputs": [
    {
     "ename": "NameError",
     "evalue": "name 'population_weighted_temperature' is not defined",
     "output_type": "error",
     "traceback": [
      "\u001b[0;31m---------------------------------------------------------------------------\u001b[0m",
      "\u001b[0;31mNameError\u001b[0m                                 Traceback (most recent call last)",
      "\u001b[0;32m<ipython-input-41-8deebf1a999c>\u001b[0m in \u001b[0;36m<module>\u001b[0;34m\u001b[0m\n\u001b[1;32m      6\u001b[0m \u001b[0;32mfor\u001b[0m \u001b[0mstation\u001b[0m \u001b[0;32min\u001b[0m \u001b[0mstations\u001b[0m\u001b[0;34m[\u001b[0m\u001b[0;36m0\u001b[0m\u001b[0;34m:\u001b[0m\u001b[0;36m1\u001b[0m\u001b[0;34m]\u001b[0m\u001b[0;34m:\u001b[0m\u001b[0;34m\u001b[0m\u001b[0;34m\u001b[0m\u001b[0m\n\u001b[1;32m      7\u001b[0m     \u001b[0mdf_station\u001b[0m \u001b[0;34m=\u001b[0m \u001b[0mdf_temperature\u001b[0m\u001b[0;34m[\u001b[0m\u001b[0mdf_temperature\u001b[0m\u001b[0;34m[\u001b[0m\u001b[0;34m'name'\u001b[0m\u001b[0;34m]\u001b[0m \u001b[0;34m==\u001b[0m \u001b[0mstation\u001b[0m\u001b[0;34m]\u001b[0m\u001b[0;34m.\u001b[0m\u001b[0mcopy\u001b[0m\u001b[0;34m(\u001b[0m\u001b[0;34m)\u001b[0m\u001b[0;34m\u001b[0m\u001b[0;34m\u001b[0m\u001b[0m\n\u001b[0;32m----> 8\u001b[0;31m     \u001b[0mseries_array\u001b[0m\u001b[0;34m.\u001b[0m\u001b[0mappend\u001b[0m\u001b[0;34m(\u001b[0m\u001b[0mpopulation_weighted_temperature\u001b[0m\u001b[0;34m(\u001b[0m\u001b[0mdf_station\u001b[0m\u001b[0;34m)\u001b[0m\u001b[0;34m)\u001b[0m\u001b[0;34m\u001b[0m\u001b[0;34m\u001b[0m\u001b[0m\n\u001b[0m\u001b[1;32m      9\u001b[0m \u001b[0;34m\u001b[0m\u001b[0m\n\u001b[1;32m     10\u001b[0m \u001b[0mplot_series_array_scatter\u001b[0m\u001b[0;34m(\u001b[0m\u001b[0mseries_array\u001b[0m\u001b[0;34m)\u001b[0m\u001b[0;34m\u001b[0m\u001b[0;34m\u001b[0m\u001b[0m\n",
      "\u001b[0;31mNameError\u001b[0m: name 'population_weighted_temperature' is not defined"
     ]
    }
   ],
   "source": [
    "# Temperature by station with populations\n",
    "stations = df_temperature[~np.isnan(df_temperature['population'])].name.unique()\n",
    "\n",
    "#Plot per station\n",
    "series_array = []\n",
    "for station in stations[0:1]:\n",
    "    df_station = df_temperature[df_temperature['name'] == station].copy()\n",
    "    series_array.append(population_weighted_temperature(df_station))\n",
    "    \n",
    "plot_series_array_scatter(series_array)"
   ]
  },
  {
   "cell_type": "code",
   "execution_count": 23,
   "metadata": {},
   "outputs": [],
   "source": [
    "# Import transformed data\n",
    "df_daily = pd.read_csv('temperature_of_location_date.csv')"
   ]
  },
  {
   "cell_type": "code",
   "execution_count": 30,
   "metadata": {},
   "outputs": [
    {
     "data": {
      "text/plain": [
       "'(2.143194204652545, -2.0310582522610594, 6.328438952852305)'"
      ]
     },
     "execution_count": 30,
     "metadata": {},
     "output_type": "execute_result"
    }
   ],
   "source": [
    "df_daily['daily_temps'].iloc[0]"
   ]
  },
  {
   "cell_type": "code",
   "execution_count": 31,
   "metadata": {},
   "outputs": [
    {
     "data": {
      "text/plain": [
       "(2.143194204652545, -2.0310582522610594, 6.328438952852305)"
      ]
     },
     "execution_count": 31,
     "metadata": {},
     "output_type": "execute_result"
    }
   ],
   "source": [
    "import ast\n",
    "ast.literal_eval(df_daily['daily_temps'].iloc[0])"
   ]
  },
  {
   "cell_type": "code",
   "execution_count": 32,
   "metadata": {},
   "outputs": [],
   "source": [
    "df_daily['temp_mean'] = df_daily['daily_temps'].apply(lambda x: ast.literal_eval(x)[0])"
   ]
  },
  {
   "cell_type": "code",
   "execution_count": 36,
   "metadata": {},
   "outputs": [
    {
     "data": {
      "image/png": "[encoded data removed]",
      "text/plain": [
       "<Figure size 432x288 with 1 Axes>"
      ]
     },
     "metadata": {
      "needs_background": "light"
     },
     "output_type": "display_data"
    }
   ],
   "source": [
    "plot_series_scatter(df_daily['temp_mean'])\n"
   ]
  },
  {
   "cell_type": "code",
   "execution_count": null,
   "metadata": {},
   "outputs": [],
   "source": []
  },
  {
   "cell_type": "code",
   "execution_count": null,
   "metadata": {},
   "outputs": [],
   "source": []
  },
  {
   "cell_type": "code",
   "execution_count": 220,
   "metadata": {},
   "outputs": [
    {
     "data": {
      "text/plain": [
       "array(['Atlanta', 'Nashville', 'Boise', 'Boston'], dtype=object)"
      ]
     },
     "execution_count": 220,
     "metadata": {},
     "output_type": "execute_result"
    }
   ],
   "source": [
    "stations[:4]"
   ]
  },
  {
   "cell_type": "code",
   "execution_count": null,
   "metadata": {},
   "outputs": [],
   "source": []
  },
  {
   "cell_type": "code",
   "execution_count": 170,
   "metadata": {},
   "outputs": [
    {
     "data": {
      "text/plain": [
       "0        False\n",
       "1         True\n",
       "2        False\n",
       "3        False\n",
       "4        False\n",
       "         ...  \n",
       "89214    False\n",
       "89215    False\n",
       "89216    False\n",
       "89217    False\n",
       "89218    False\n",
       "Name: population, Length: 89219, dtype: bool"
      ]
     },
     "execution_count": 170,
     "metadata": {},
     "output_type": "execute_result"
    }
   ],
   "source": []
  },
  {
   "cell_type": "code",
   "execution_count": 164,
   "metadata": {},
   "outputs": [
    {
     "data": {
      "text/plain": [
       "datetime\n",
       "2015-01-01    22907360.0\n",
       "2015-01-02    22907360.0\n",
       "2015-01-03    22907360.0\n",
       "2015-01-04    22907360.0\n",
       "2015-01-05    22907360.0\n",
       "                 ...    \n",
       "2021-04-16    22907360.0\n",
       "2021-04-17    22907360.0\n",
       "2021-04-18    22907360.0\n",
       "2021-04-19    22907360.0\n",
       "2021-04-20    22907360.0\n",
       "Name: population, Length: 2302, dtype: float64"
      ]
     },
     "execution_count": 164,
     "metadata": {},
     "output_type": "execute_result"
    }
   ],
   "source": [
    "datetime_totalpop"
   ]
  },
  {
   "cell_type": "code",
   "execution_count": 165,
   "metadata": {},
   "outputs": [
    {
     "data": {
      "text/plain": [
       "datetime\n",
       "2015-01-01    6.096591e+07\n",
       "2015-01-02    1.058383e+08\n",
       "2015-01-03    1.298313e+08\n",
       "2015-01-04    1.552259e+08\n",
       "2015-01-05    1.187519e+08\n",
       "                  ...     \n",
       "2021-04-16    3.099845e+08\n",
       "2021-04-17    3.178008e+08\n",
       "2021-04-18    3.598406e+08\n",
       "2021-04-19    3.543915e+08\n",
       "2021-04-20    3.488180e+08\n",
       "Name: temp_pop_prod, Length: 2302, dtype: float64"
      ]
     },
     "execution_count": 165,
     "metadata": {},
     "output_type": "execute_result"
    }
   ],
   "source": [
    "(df_temperature.groupby('datetime').sum().temp_pop_prod)"
   ]
  },
  {
   "cell_type": "code",
   "execution_count": 161,
   "metadata": {},
   "outputs": [
    {
     "data": {
      "text/plain": [
       "0.1863247897435896"
      ]
     },
     "execution_count": 161,
     "metadata": {},
     "output_type": "execute_result"
    }
   ],
   "source": [
    "df_temperature[df_temperature['datetime'] == dates[0]].temp_mean_c.mean()"
   ]
  },
  {
   "cell_type": "code",
   "execution_count": 93,
   "metadata": {},
   "outputs": [
    {
     "name": "stdout",
     "output_type": "stream",
     "text": [
      "2302\n"
     ]
    }
   ],
   "source": [
    "# Available dates: 2302\n",
    "print(len(dates))"
   ]
  },
  {
   "cell_type": "code",
   "execution_count": 74,
   "metadata": {},
   "outputs": [
    {
     "data": {
      "text/plain": [
       "Float64Index([         715855.0,         1469471.0, 737139.7666666667,\n",
       "              742720.6551724138,          723134.9,          690863.0,\n",
       "              714362.7931034482, 718948.1290322581,          730154.5,\n",
       "              604823.6153846154, 730526.9354838709],\n",
       "             dtype='float64')"
      ]
     },
     "execution_count": 74,
     "metadata": {},
     "output_type": "execute_result"
    }
   ],
   "source": [
    "pop_series.index"
   ]
  },
  {
   "cell_type": "code",
   "execution_count": null,
   "metadata": {},
   "outputs": [],
   "source": []
  },
  {
   "cell_type": "code",
   "execution_count": 76,
   "metadata": {
    "scrolled": false
   },
   "outputs": [
    {
     "data": {
      "text/plain": [
       "7.158550e+05    2279\n",
       "1.469471e+06      14\n",
       "7.371398e+05       1\n",
       "7.427207e+05       1\n",
       "7.231349e+05       1\n",
       "6.908630e+05       1\n",
       "7.143628e+05       1\n",
       "7.189481e+05       1\n",
       "7.301545e+05       1\n",
       "6.048236e+05       1\n",
       "7.305269e+05       1\n",
       "Name: population, dtype: int64"
      ]
     },
     "execution_count": 76,
     "metadata": {},
     "output_type": "execute_result"
    },
    {
     "data": {
      "image/png": "[encoded data removed]",
      "text/plain": [
       "<Figure size 432x288 with 1 Axes>"
      ]
     },
     "metadata": {
      "needs_background": "light"
     },
     "output_type": "display_data"
    }
   ],
   "source": [
    "# Population average by date (with available data)\n",
    "fig, ax = plt.subplots()\n",
    "ax.bar(pop_series.index.values.astype(str), pop_series.values)\n",
    "pop_series"
   ]
  },
  {
   "cell_type": "code",
   "execution_count": null,
   "metadata": {},
   "outputs": [],
   "source": []
  },
  {
   "cell_type": "markdown",
   "metadata": {},
   "source": [
    "What this means is for 99% of the days, the stations which are operational and have known population values have an average population of 715,855 people. Of that last 1%, only 0.6% is significantly different (double)."
   ]
  },
  {
   "cell_type": "code",
   "execution_count": null,
   "metadata": {},
   "outputs": [],
   "source": [
    "# Does it give reasonable data on those days?\n",
    "# "
   ]
  },
  {
   "cell_type": "code",
   "execution_count": 59,
   "metadata": {},
   "outputs": [
    {
     "ename": "AttributeError",
     "evalue": "'DataFrame' object has no attribute 'date'",
     "output_type": "error",
     "traceback": [
      "\u001b[0;31m---------------------------------------------------------------------------\u001b[0m",
      "\u001b[0;31mAttributeError\u001b[0m                            Traceback (most recent call last)",
      "\u001b[0;32m<ipython-input-59-388ef176ca8c>\u001b[0m in \u001b[0;36m<module>\u001b[0;34m\u001b[0m\n\u001b[0;32m----> 1\u001b[0;31m \u001b[0mlen\u001b[0m\u001b[0;34m(\u001b[0m\u001b[0mdf_temperature\u001b[0m\u001b[0;34m.\u001b[0m\u001b[0mdate\u001b[0m\u001b[0;34m.\u001b[0m\u001b[0munique\u001b[0m\u001b[0;34m)\u001b[0m\u001b[0;34m\u001b[0m\u001b[0;34m\u001b[0m\u001b[0m\n\u001b[0m",
      "\u001b[0;32m~/.local/lib/python3.8/site-packages/pandas/core/generic.py\u001b[0m in \u001b[0;36m__getattr__\u001b[0;34m(self, name)\u001b[0m\n\u001b[1;32m   5139\u001b[0m             \u001b[0;32mif\u001b[0m \u001b[0mself\u001b[0m\u001b[0;34m.\u001b[0m\u001b[0m_info_axis\u001b[0m\u001b[0;34m.\u001b[0m\u001b[0m_can_hold_identifiers_and_holds_name\u001b[0m\u001b[0;34m(\u001b[0m\u001b[0mname\u001b[0m\u001b[0;34m)\u001b[0m\u001b[0;34m:\u001b[0m\u001b[0;34m\u001b[0m\u001b[0;34m\u001b[0m\u001b[0m\n\u001b[1;32m   5140\u001b[0m                 \u001b[0;32mreturn\u001b[0m \u001b[0mself\u001b[0m\u001b[0;34m[\u001b[0m\u001b[0mname\u001b[0m\u001b[0;34m]\u001b[0m\u001b[0;34m\u001b[0m\u001b[0;34m\u001b[0m\u001b[0m\n\u001b[0;32m-> 5141\u001b[0;31m             \u001b[0;32mreturn\u001b[0m \u001b[0mobject\u001b[0m\u001b[0;34m.\u001b[0m\u001b[0m__getattribute__\u001b[0m\u001b[0;34m(\u001b[0m\u001b[0mself\u001b[0m\u001b[0;34m,\u001b[0m \u001b[0mname\u001b[0m\u001b[0;34m)\u001b[0m\u001b[0;34m\u001b[0m\u001b[0;34m\u001b[0m\u001b[0m\n\u001b[0m\u001b[1;32m   5142\u001b[0m \u001b[0;34m\u001b[0m\u001b[0m\n\u001b[1;32m   5143\u001b[0m     \u001b[0;32mdef\u001b[0m \u001b[0m__setattr__\u001b[0m\u001b[0;34m(\u001b[0m\u001b[0mself\u001b[0m\u001b[0;34m,\u001b[0m \u001b[0mname\u001b[0m\u001b[0;34m:\u001b[0m \u001b[0mstr\u001b[0m\u001b[0;34m,\u001b[0m \u001b[0mvalue\u001b[0m\u001b[0;34m)\u001b[0m \u001b[0;34m->\u001b[0m \u001b[0;32mNone\u001b[0m\u001b[0;34m:\u001b[0m\u001b[0;34m\u001b[0m\u001b[0;34m\u001b[0m\u001b[0m\n",
      "\u001b[0;31mAttributeError\u001b[0m: 'DataFrame' object has no attribute 'date'"
     ]
    }
   ],
   "source": [
    "len(df_temperature.date.unique)"
   ]
  },
  {
   "cell_type": "code",
   "execution_count": 44,
   "metadata": {},
   "outputs": [
    {
     "data": {
      "text/plain": [
       "32"
      ]
     },
     "execution_count": 44,
     "metadata": {},
     "output_type": "execute_result"
    }
   ],
   "source": [
    "# 32 captured\n",
    "len(name_pop)"
   ]
  },
  {
   "cell_type": "code",
   "execution_count": 35,
   "metadata": {},
   "outputs": [
    {
     "data": {
      "text/plain": [
       "{'Unknown': 9150,\n",
       " 'Atlanta': 432427,\n",
       " 'Nashville': 609644,\n",
       " 'Boise': 210145,\n",
       " 'Boston': 625087,\n",
       " 'Buffalo': 261025,\n",
       " 'Burbank': 104092,\n",
       " 'Baltimore': 619493,\n",
       " 'Columbus': 797434,\n",
       " 'Los Angeles': 3819702,\n",
       " 'Washington': 617996,\n",
       " 'Denver': 619968,\n",
       " 'Dallas': 1223229,\n",
       " 'Detroit': 706585,\n",
       " 'Fresno': 501362,\n",
       " 'Spokane': 210103,\n",
       " 'Houston': 2145146,\n",
       " 'Las Vegas': 589317,\n",
       " 'Little Rock': 195314,\n",
       " 'Memphis': 652050,\n",
       " 'Minneapolis': 387753,\n",
       " 'New Orleans': 360740,\n",
       " 'Portland': 593820,\n",
       " 'Philadelphia': 1536471,\n",
       " 'Phoenix': 1469471,\n",
       " 'Pittsburgh': 307484,\n",
       " 'Raleigh': 416468,\n",
       " 'Richmond': 205533,\n",
       " 'Sacramento': 472178,\n",
       " 'Seattle': 620778,\n",
       " 'San Francisco': 812826,\n",
       " 'Salt Lake City': 189899}"
      ]
     },
     "execution_count": 35,
     "metadata": {},
     "output_type": "execute_result"
    }
   ],
   "source": [
    "name_pop"
   ]
  },
  {
   "cell_type": "code",
   "execution_count": 33,
   "metadata": {},
   "outputs": [
    {
     "data": {
      "text/plain": [
       "32"
      ]
     },
     "execution_count": 33,
     "metadata": {},
     "output_type": "execute_result"
    }
   ],
   "source": [
    "len(name_pop)"
   ]
  },
  {
   "cell_type": "code",
   "execution_count": 30,
   "metadata": {},
   "outputs": [],
   "source": [
    "station_counts = df_temperature.name.value_counts()"
   ]
  },
  {
   "cell_type": "code",
   "execution_count": 32,
   "metadata": {},
   "outputs": [
    {
     "data": {
      "text/plain": [
       "38"
      ]
     },
     "execution_count": 32,
     "metadata": {},
     "output_type": "execute_result"
    }
   ],
   "source": [
    "len(station_counts)"
   ]
  },
  {
   "cell_type": "code",
   "execution_count": 37,
   "metadata": {},
   "outputs": [
    {
     "data": {
      "text/plain": [
       "Portland            4575\n",
       "Phoenix/Sky HRBR    2302\n",
       "Memphis             2288\n",
       "Las Vegas           2288\n",
       "NYC/LaGuardia       2288\n",
       "Pittsburgh          2288\n",
       "Little Rock         2288\n",
       "Windsor Locks       2288\n",
       "Nashville           2288\n",
       "Sacramento/Execu    2288\n",
       "Richmond            2288\n",
       "Chicago O'Hare      2288\n",
       "St Louis/Lambert    2288\n",
       "Boise               2288\n",
       "Raleigh/Durham      2288\n",
       "Philadelphia        2288\n",
       "Boston              2288\n",
       "Seattle             2288\n",
       "Covington           2287\n",
       "San Francisco       2287\n",
       "Houston             2287\n",
       "Salt Lake City      2287\n",
       "Albany              2287\n",
       "Atlanta             2287\n",
       "Los Angeles         2287\n",
       "Fresno              2287\n",
       "Minneapolis         2287\n",
       "Wash DC/Dulles      2287\n",
       "Washington          2287\n",
       "Columbus            2287\n",
       "Burbank             2287\n",
       "Spokane             2287\n",
       "Buffalo             2286\n",
       "Baltimore           2286\n",
       "Dallas              2286\n",
       "New Orleans         2286\n",
       "Denver              2286\n",
       "Detroit/Wayne       2286\n",
       "Name: name, dtype: int64"
      ]
     },
     "execution_count": 37,
     "metadata": {},
     "output_type": "execute_result"
    }
   ],
   "source": [
    "station_counts"
   ]
  },
  {
   "cell_type": "code",
   "execution_count": null,
   "metadata": {},
   "outputs": [],
   "source": [
    "# Population-weighted daily temperature time series back to beginning of \n",
    "# 2015 using only this data\n",
    "\n",
    "\n",
    "# Note: some data may be missing (weather station not operational or day not available)"
   ]
  },
  {
   "cell_type": "code",
   "execution_count": 14,
   "metadata": {},
   "outputs": [
    {
     "data": {
      "text/plain": [
       "2302"
      ]
     },
     "execution_count": 14,
     "metadata": {},
     "output_type": "execute_result"
    }
   ],
   "source": [
    "len(df_temperature.location_date.value_counts())"
   ]
  },
  {
   "cell_type": "code",
   "execution_count": 15,
   "metadata": {},
   "outputs": [
    {
     "data": {
      "text/plain": [
       "9/26/2015     39\n",
       "9/9/2016      39\n",
       "8/26/2016     39\n",
       "10/14/2018    39\n",
       "5/31/2018     39\n",
       "              ..\n",
       "11/6/2016      1\n",
       "3/11/2018      1\n",
       "3/14/2021      1\n",
       "9/16/2017      1\n",
       "3/8/2015       1\n",
       "Name: location_date, Length: 2302, dtype: int64"
      ]
     },
     "execution_count": 15,
     "metadata": {},
     "output_type": "execute_result"
    }
   ],
   "source": [
    "df_temperature.location_date.value_counts()"
   ]
  },
  {
   "cell_type": "code",
   "execution_count": null,
   "metadata": {},
   "outputs": [],
   "source": [
    "# Write a program to generate the timeseries, while handling missing data\n",
    "# Must give a reasonable daily value even when data is missing"
   ]
  },
  {
   "cell_type": "code",
   "execution_count": null,
   "metadata": {},
   "outputs": [],
   "source": []
  }
 ],
 "metadata": {
  "kernelspec": {
   "display_name": "Python 3",
   "language": "python",
   "name": "python3"
  },
  "language_info": {
   "codemirror_mode": {
    "name": "ipython",
    "version": 3
   },
   "file_extension": ".py",
   "mimetype": "text/x-python",
   "name": "python",
   "nbconvert_exporter": "python",
   "pygments_lexer": "ipython3",
   "version": "3.8.5"
  }
 },
 "nbformat": 4,
 "nbformat_minor": 4
}
